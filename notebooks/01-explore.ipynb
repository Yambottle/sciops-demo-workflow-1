{
 "cells": [
  {
   "cell_type": "markdown",
   "source": [
    "# DataJoint Workflow for Neuropixels Analysis with Kilosort\n",
    "\n",
    "+ This notebook will describe the steps for interacting with the data processed with the workflow."
   ],
   "metadata": {}
  },
  {
   "cell_type": "code",
   "execution_count": null,
   "source": [
    "import os\n",
    "os.chdir('..')"
   ],
   "outputs": [],
   "metadata": {}
  },
  {
   "cell_type": "code",
   "execution_count": null,
   "source": [
    "import datajoint as dj\n",
    "import matplotlib.pyplot as plt\n",
    "import numpy as np\n",
    "\n",
    "from workflow.pipeline import lab, subject, session, ephys, probe"
   ],
   "outputs": [],
   "metadata": {}
  },
  {
   "cell_type": "markdown",
   "source": [
    "## Workflow architecture\n",
    "\n",
    "+ This workflow is assembled from 4 DataJoint elements:\n",
    "     + [element-lab](https://github.com/datajoint/element-lab)\n",
    "     + [element-animal](https://github.com/datajoint/element-animal)\n",
    "     + [element-session](https://github.com/datajoint/element-session)\n",
    "     + [element-array-ephys](https://github.com/datajoint/element-array-ephys)\n",
    "\n",
    "+ Below is the diagram describing the core components of the fully assembled pipeline.\n"
   ],
   "metadata": {
    "pycharm": {
     "name": "#%% md\n"
    }
   }
  },
  {
   "cell_type": "code",
   "execution_count": null,
   "source": [
    "dj.Diagram(subject.Subject) + dj.Diagram(session.Session) + dj.Diagram(probe) + dj.Diagram(ephys)"
   ],
   "outputs": [],
   "metadata": {}
  },
  {
   "cell_type": "markdown",
   "source": [
    "## Browsing the data with DataJoint query and fetch \n",
    "\n",
    "+ DataJoint provides abundant functions to query data and fetch. For a detailed tutorials, visit our [general tutorial site](https://playground.datajoint.io/)"
   ],
   "metadata": {}
  },
  {
   "cell_type": "markdown",
   "source": [
    "### `subject.Subject` and `session.Session` tables"
   ],
   "metadata": {}
  },
  {
   "cell_type": "code",
   "execution_count": null,
   "source": [
    "subject.Subject()"
   ],
   "outputs": [],
   "metadata": {}
  },
  {
   "cell_type": "code",
   "execution_count": null,
   "source": [
    "session_key = (session.Session & 'subject=\"subject5\"' & 'session_datetime = \"2020-05-12 04:13:07\"').fetch1('KEY')"
   ],
   "outputs": [],
   "metadata": {}
  },
  {
   "cell_type": "markdown",
   "source": [
    "### `ephys.ProbeInsertion` and `ephys.EphysRecording` tables\n",
    "\n",
    "+ These tables stores the probe recordings within a particular session from one or more probes."
   ],
   "metadata": {}
  },
  {
   "cell_type": "code",
   "execution_count": null,
   "source": [
    "ephys.ProbeInsertion & session_key"
   ],
   "outputs": [],
   "metadata": {}
  },
  {
   "cell_type": "code",
   "execution_count": null,
   "source": [
    "ephys.EphysRecording & session_key"
   ],
   "outputs": [],
   "metadata": {}
  },
  {
   "cell_type": "markdown",
   "source": [
    "### `ephys.ClusteringTask` , `ephys.Clustering`\n",
    "\n",
    "+ Spike-sorting is performed on a per-probe basis with the details stored in `ClusteringTask` and `Clustering`"
   ],
   "metadata": {}
  },
  {
   "cell_type": "code",
   "execution_count": null,
   "source": [
    "ephys.ClusteringTask * ephys.Clustering & session_key"
   ],
   "outputs": [],
   "metadata": {}
  },
  {
   "cell_type": "markdown",
   "source": [
    "### Spike-sorting results are stored in `ephys.CuratedClustering`,  `ephys.WaveformSet.Waveform`"
   ],
   "metadata": {}
  },
  {
   "cell_type": "code",
   "execution_count": null,
   "source": [
    "ephys.CuratedClustering.Unit & session_key"
   ],
   "outputs": [],
   "metadata": {}
  },
  {
   "cell_type": "markdown",
   "source": [
    "Let's pick one probe insertion and one `curation_id`, and further inspect the clustering results."
   ],
   "metadata": {}
  },
  {
   "cell_type": "code",
   "execution_count": null,
   "source": [
    "curation_key = (ephys.CuratedClustering & session_key & 'insertion_number = 1' & 'paramset_idx=0').fetch1('KEY')"
   ],
   "outputs": [],
   "metadata": {}
  },
  {
   "cell_type": "code",
   "execution_count": null,
   "source": [
    "ephys.CuratedClustering.Unit & curation_key"
   ],
   "outputs": [],
   "metadata": {}
  },
  {
   "cell_type": "markdown",
   "source": [
    "### Generate a raster plot for the \"good\" units"
   ],
   "metadata": {}
  },
  {
   "cell_type": "code",
   "execution_count": null,
   "source": [
    "unit_key = ephys.CuratedClustering.Unit & curation_key & 'cluster_quality_label = \"good\"'"
   ],
   "outputs": [],
   "metadata": {}
  },
  {
   "cell_type": "code",
   "execution_count": null,
   "source": [
    "units, unit_spiketimes = unit_key.fetch('unit', 'spike_times')"
   ],
   "outputs": [],
   "metadata": {}
  },
  {
   "cell_type": "code",
   "execution_count": null,
   "source": [
    "x = np.hstack(unit_spiketimes)\n",
    "y = np.hstack([np.full_like(s, u) for u, s in zip(units, unit_spiketimes)])"
   ],
   "outputs": [],
   "metadata": {}
  },
  {
   "cell_type": "code",
   "execution_count": null,
   "source": [
    "fig, ax = plt.subplots(1, 1, figsize=(32, 16))\n",
    "ax.plot(x, y, '|')\n",
    "ax.set_xlabel('Time (s)');\n",
    "ax.set_ylabel('Unit');"
   ],
   "outputs": [],
   "metadata": {}
  },
  {
   "cell_type": "markdown",
   "source": [
    "### Plot waveform of a unit"
   ],
   "metadata": {}
  },
  {
   "cell_type": "code",
   "execution_count": null,
   "source": [
    "unit_key = (ephys.CuratedClustering.Unit & curation_key & 'unit = 1').fetch1('KEY')"
   ],
   "outputs": [],
   "metadata": {}
  },
  {
   "cell_type": "code",
   "execution_count": null,
   "source": [
    "ephys.CuratedClustering.Unit * ephys.WaveformSet.Waveform & unit_key"
   ],
   "outputs": [],
   "metadata": {}
  },
  {
   "cell_type": "code",
   "execution_count": null,
   "source": [
    "unit_data = (ephys.CuratedClustering.Unit * ephys.WaveformSet.PeakWaveform & unit_key).fetch1()"
   ],
   "outputs": [],
   "metadata": {}
  },
  {
   "cell_type": "code",
   "execution_count": null,
   "source": [
    "unit_data"
   ],
   "outputs": [],
   "metadata": {}
  },
  {
   "cell_type": "code",
   "execution_count": null,
   "source": [
    "sampling_rate = (ephys.EphysRecording & curation_key).fetch1('sampling_rate')/1000 # in kHz\n",
    "plt.plot(np.r_[:unit_data['peak_electrode_waveform'].size] * 1/sampling_rate, unit_data['peak_electrode_waveform'])\n",
    "plt.xlabel('Time (ms)');\n",
    "plt.ylabel(r'Voltage ($\\mu$V)');"
   ],
   "outputs": [],
   "metadata": {}
  },
  {
   "cell_type": "markdown",
   "source": [
    "## Summary\n",
    "This notebook highlights the major tables in the workflow and visualize some of the processed results. "
   ],
   "metadata": {}
  }
 ],
 "metadata": {
  "kernelspec": {
   "name": "python3",
   "display_name": "Python 3.8.11 64-bit ('sciopsdemo': conda)"
  },
  "language_info": {
   "codemirror_mode": {
    "name": "ipython",
    "version": 3
   },
   "file_extension": ".py",
   "mimetype": "text/x-python",
   "name": "python",
   "nbconvert_exporter": "python",
   "pygments_lexer": "ipython3",
   "version": "3.8.11"
  },
  "interpreter": {
   "hash": "d2b724eff1836aa1e8416b6319c6e535ba87d90b064321391c007ed2b2e17e5a"
  }
 },
 "nbformat": 4,
 "nbformat_minor": 4
}