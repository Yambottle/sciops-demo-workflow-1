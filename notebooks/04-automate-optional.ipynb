{
 "cells": [
  {
   "cell_type": "markdown",
   "metadata": {
    "pycharm": {
     "name": "#%% md\n"
    }
   },
   "source": [
    "# Run workflow in an automatic way\n",
    "\n",
    "In the previous notebook [03-process](03-process.ipynb), we ran through the workflow in detailed steps. For daily running routines, the current notebook provides a more succinct and automatic approach to run through the pipeline using some utility functions in the workflow."
   ]
  },
  {
   "cell_type": "code",
   "execution_count": 1,
   "metadata": {},
   "outputs": [
    {
     "name": "stdout",
     "output_type": "stream",
     "text": [
      "Connecting root@localhost:3306\n"
     ]
    }
   ],
   "source": [
    "import os\n",
    "os.chdir('..')\n",
    "import numpy as np\n",
    "from workflow_array_ephys.pipeline import lab, subject, session, probe, ephys"
   ]
  },
  {
   "cell_type": "markdown",
   "metadata": {},
   "source": [
    "## Ingestion of subjects, sessions, probes, probe insertions\n",
    "\n",
    "1. Fill subject and session information in files `/user_data/subjects.csv` and `/user_data/sessions.csv`\n",
    "2. Run automatic scripts prepared in `workflow_array_ephys.ingest` for ingestion"
   ]
  },
  {
   "cell_type": "code",
   "execution_count": 3,
   "metadata": {},
   "outputs": [],
   "source": [
    "from workflow_array_ephys.ingest import ingest_subjects, ingest_sessions"
   ]
  },
  {
   "cell_type": "markdown",
   "metadata": {},
   "source": [
    "##### Insert new entries for subject.Subject from the `subjects.csv` file"
   ]
  },
  {
   "cell_type": "code",
   "execution_count": 5,
   "metadata": {},
   "outputs": [
    {
     "name": "stdout",
     "output_type": "stream",
     "text": [
      "\n",
      "---- Insert 1 entry(s) into subject.Subject ----\n"
     ]
    }
   ],
   "source": [
    "ingest_subjects()"
   ]
  },
  {
   "cell_type": "markdown",
   "metadata": {},
   "source": [
    "##### Insert new entries for session.Session, session.SessionDirectory, probe.Probe, ephys.ProbeInsertions from the `sessions.csv` file"
   ]
  },
  {
   "cell_type": "code",
   "execution_count": 6,
   "metadata": {},
   "outputs": [
    {
     "name": "stdout",
     "output_type": "stream",
     "text": [
      "\n",
      "---- Insert 0 entry(s) into session.Session ----\n",
      "\n",
      "---- Insert 0 entry(s) into probe.Probe ----\n",
      "\n",
      "---- Insert 0 entry(s) into ephys.ProbeInsertion ----\n",
      "\n",
      "---- Successfully completed workflow_array_ephys/ingest.py ----\n"
     ]
    }
   ],
   "source": [
    "ingest_sessions()"
   ]
  },
  {
   "cell_type": "markdown",
   "metadata": {},
   "source": [
    "## [Optional] Insert new ClusteringParamSet for Kilosort\n",
    "\n",
    "This is not needed if keep using the existing ClusteringParamSet"
   ]
  },
  {
   "cell_type": "code",
   "execution_count": 7,
   "metadata": {
    "jupyter": {
     "outputs_hidden": false
    },
    "pycharm": {
     "name": "#%%\n"
    }
   },
   "outputs": [],
   "source": [
    "params_ks = {\n",
    "    \"fs\": 30000,\n",
    "    \"fshigh\": 150,\n",
    "    \"minfr_goodchannels\": 0.1,\n",
    "    \"Th\": [10, 4],\n",
    "    \"lam\": 10,\n",
    "    \"AUCsplit\": 0.9,\n",
    "    \"minFR\": 0.02,\n",
    "    \"momentum\": [20, 400],\n",
    "    \"sigmaMask\": 30,\n",
    "    \"ThPr\": 8,\n",
    "    \"spkTh\": -6,\n",
    "    \"reorder\": 1,\n",
    "    \"nskip\": 25,\n",
    "    \"GPU\": 1,\n",
    "    \"Nfilt\": 1024,\n",
    "    \"nfilt_factor\": 4,\n",
    "    \"ntbuff\": 64,\n",
    "    \"whiteningRange\": 32,\n",
    "    \"nSkipCov\": 25,\n",
    "    \"scaleproc\": 200,\n",
    "    \"nPCs\": 3,\n",
    "    \"useRAM\": 0\n",
    "}\n",
    "ephys.ClusteringParamSet.insert_new_params(\n",
    "    processing_method='kilosort2',\n",
    "    paramset_idx=0,\n",
    "    params=params_ks,\n",
    "    paramset_desc='Spike sorting using Kilosort2')"
   ]
  },
  {
   "cell_type": "markdown",
   "metadata": {},
   "source": [
    "## Trigger autoprocessing of the remaining ephys pipeline"
   ]
  },
  {
   "cell_type": "code",
   "execution_count": 8,
   "metadata": {},
   "outputs": [],
   "source": [
    "from workflow_array_ephys import process"
   ]
  },
  {
   "cell_type": "markdown",
   "metadata": {},
   "source": [
    "The `process.run()` function in the workflow populates every auto-processing table in the workflow. If a table is dependent on a manual table upstream, it will not get populated until the manual table is inserted."
   ]
  },
  {
   "cell_type": "code",
   "execution_count": 9,
   "metadata": {},
   "outputs": [
    {
     "name": "stdout",
     "output_type": "stream",
     "text": [
      "\n",
      "---- Populate ephys.EphysRecording ----\n"
     ]
    },
    {
     "name": "stderr",
     "output_type": "stream",
     "text": [
      "EphysRecording: 0it [00:00, ?it/s]\n",
      "LFP: 0it [00:00, ?it/s]\n",
      "Clustering: 0it [00:00, ?it/s]\n",
      "CuratedClustering: 0it [00:00, ?it/s]\n",
      "WaveformSet: 0it [00:00, ?it/s]"
     ]
    },
    {
     "name": "stdout",
     "output_type": "stream",
     "text": [
      "\n",
      "---- Populate ephys.LFP ----\n",
      "\n",
      "---- Populate ephys.Clustering ----\n",
      "\n",
      "---- Populate ephys.CuratedClustering ----\n",
      "\n",
      "---- Populate ephys.WaveformSet ----\n"
     ]
    },
    {
     "name": "stderr",
     "output_type": "stream",
     "text": [
      "\n"
     ]
    }
   ],
   "source": [
    "# At this stage, process script populates through the table upstream of `ClusteringTask`\n",
    "process.run()"
   ]
  },
  {
   "cell_type": "markdown",
   "metadata": {},
   "source": [
    "## Insert new ClusteringTask to trigger ingestion of clustering results\n",
    "\n",
    "To populate the rest of the tables in the workflow, an entry in the `ClusteringTask` needs to be added to trigger the ingestion of the clustering results, with the two pieces of information specified:\n",
    "+ the `paramset_idx` used for the clustering job\n",
    "+ the output directory storing the clustering results"
   ]
  },
  {
   "cell_type": "code",
   "execution_count": 10,
   "metadata": {},
   "outputs": [],
   "source": [
    "session_key = session.Session.fetch1('KEY')\n",
    "ephys.ClusteringTask.insert1(\n",
    "    dict(session_key, insertion_number=0, paramset_idx=0,\n",
    "         clustering_output_dir='subject6/session1/towersTask_g0_imec0'), skip_duplicates=True)"
   ]
  },
  {
   "cell_type": "code",
   "execution_count": 11,
   "metadata": {},
   "outputs": [
    {
     "name": "stderr",
     "output_type": "stream",
     "text": [
      "EphysRecording: 0it [00:00, ?it/s]\n",
      "LFP: 0it [00:00, ?it/s]\n",
      "Clustering: 0it [00:00, ?it/s]\n",
      "CuratedClustering: 0it [00:00, ?it/s]\n",
      "WaveformSet: 0it [00:00, ?it/s]"
     ]
    },
    {
     "name": "stdout",
     "output_type": "stream",
     "text": [
      "\n",
      "---- Populate ephys.EphysRecording ----\n",
      "\n",
      "---- Populate ephys.LFP ----\n",
      "\n",
      "---- Populate ephys.Clustering ----\n",
      "\n",
      "---- Populate ephys.CuratedClustering ----\n",
      "\n",
      "---- Populate ephys.WaveformSet ----\n"
     ]
    },
    {
     "name": "stderr",
     "output_type": "stream",
     "text": [
      "\n"
     ]
    }
   ],
   "source": [
    "# run populate again for table Clustering\n",
    "process.run()"
   ]
  },
  {
   "cell_type": "markdown",
   "metadata": {},
   "source": [
    "## Insert new Curation to trigger ingestion of curated results"
   ]
  },
  {
   "cell_type": "code",
   "execution_count": 12,
   "metadata": {},
   "outputs": [],
   "source": [
    "key = (ephys.ClusteringTask & session_key).fetch1('KEY')\n",
    "ephys.Curation().create1_from_clustering_task(key)"
   ]
  },
  {
   "cell_type": "code",
   "execution_count": 13,
   "metadata": {},
   "outputs": [
    {
     "name": "stderr",
     "output_type": "stream",
     "text": [
      "EphysRecording: 0it [00:00, ?it/s]\n",
      "LFP: 0it [00:00, ?it/s]\n",
      "Clustering: 0it [00:00, ?it/s]\n",
      "CuratedClustering:   0%|                                                                         | 0/1 [00:00<?, ?it/s]"
     ]
    },
    {
     "name": "stdout",
     "output_type": "stream",
     "text": [
      "\n",
      "---- Populate ephys.EphysRecording ----\n",
      "\n",
      "---- Populate ephys.LFP ----\n",
      "\n",
      "---- Populate ephys.Clustering ----\n",
      "\n",
      "---- Populate ephys.CuratedClustering ----\n"
     ]
    },
    {
     "name": "stderr",
     "output_type": "stream",
     "text": [
      "CuratedClustering: 100%|█████████████████████████████████████████████████████████████████| 1/1 [00:05<00:00,  5.90s/it]\n",
      "WaveformSet:   0%|                                                                               | 0/1 [00:00<?, ?it/s]"
     ]
    },
    {
     "name": "stdout",
     "output_type": "stream",
     "text": [
      "\n",
      "---- Populate ephys.WaveformSet ----\n"
     ]
    },
    {
     "name": "stderr",
     "output_type": "stream",
     "text": [
      "WaveformSet: 100%|█████████████████████████████████████████████████████████████████████| 1/1 [27:23<00:00, 1643.81s/it]\n"
     ]
    }
   ],
   "source": [
    "# run populate for the rest of the tables in the workflow, takes a while\n",
    "process.run()"
   ]
  },
  {
   "cell_type": "markdown",
   "metadata": {},
   "source": [
    "## Summary and next step\n",
    "\n",
    "+ This notebook runs through the workflow in an automatic manner.\n",
    "\n",
    "+ In the next notebook [05-explore](05-explore.ipynb), we will introduce how to query, fetch and visualize the contents we ingested into the tables."
   ]
  }
 ],
 "metadata": {
  "kernelspec": {
   "display_name": "ephys_workflow_runner",
   "language": "python",
   "name": "ephys_workflow_runner"
  },
  "language_info": {
   "codemirror_mode": {
    "name": "ipython",
    "version": 3
   },
   "file_extension": ".py",
   "mimetype": "text/x-python",
   "name": "python",
   "nbconvert_exporter": "python",
   "pygments_lexer": "ipython3",
   "version": "3.7.0"
  }
 },
 "nbformat": 4,
 "nbformat_minor": 4
}
